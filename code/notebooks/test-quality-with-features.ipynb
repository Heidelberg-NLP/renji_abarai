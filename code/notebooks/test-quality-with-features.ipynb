{
 "cells": [
  {
   "cell_type": "code",
   "execution_count": 54,
   "metadata": {},
   "outputs": [
    {
     "name": "stdout",
     "output_type": "stream",
     "text": [
      "3007 691 500\n"
     ]
    }
   ],
   "source": [
    "import ast\n",
    "import pandas as pd\n",
    "import numpy as np\n",
    "\n",
    "train_df = pd.read_csv(\"../../data/train-val-splits/qrels_args_docs_train_features_arg_ratio.tsv\", sep=\"\\t\").dropna()\n",
    "val_df = pd.read_csv(\"../../data/train-val-splits/qrels_args_docs_val_features_arg_ratio.tsv\", sep=\"\\t\").dropna()\n",
    "test_df = pd.read_csv(\"../../data/qrels_args_docs_test_features_arg_ratio.tsv\", sep=\"\\t\").dropna()\n",
    "#train_df['instr_mean'] = train_df['instr_mean'].apply(ast.literal_eval)\n",
    "#val_df['instr_mean'] = val_df['instr_mean'].apply(ast.literal_eval)\n",
    "#test_df['instr_mean'] = test_df['instr_mean'].apply(ast.literal_eval)\n",
    "#print(len(train_df), len(val_df), len(test_df))"
   ]
  },
  {
   "cell_type": "code",
   "execution_count": 55,
   "metadata": {},
   "outputs": [
    {
     "name": "stdout",
     "output_type": "stream",
     "text": [
      "3007 691 500\n"
     ]
    }
   ],
   "source": [
    "# 'NAMEDENTITIES_NUM' not used: only zeros\n",
    "\n",
    "feature_cols = ['LENGTH_OF_DOCUMENT', 'LENGTH_OF_PARAGRAPHS', 'LENGTH_OF_SENTENCES', 'LENGTH_OF_WORDS', 'STOPWORD_NUM', 'SPECCHARS_NUM', \n",
    "                'NUMERICS_NUM', 'FULLUPPERCASEWORD_NUM', 'UPPERCASEWORD_NUM', 'UPPERCASESENTENCE_NUM', 'VOCABULARY_RICHNESS',\n",
    "                'VOCABULARY_RICHNESS_WITHOUT_STOPS', 'ACADEMIC_WORDS', 'PROFANITY_WORDS', 'TOPIC_KEYWORDS', 'ARGUMENTATIVE_WORDS', \n",
    "                'SUBJECTIVITY', 'LINKS_NUM', 'SENTIMENT', 'SPELLINGMISTAKES_NUM', 'READABILITY_flesch_kincaid', 'READABILITY_flesch', \n",
    "                'READABILITY_gunning_fog', 'READABILITY_coleman_liau', 'READABILITY_dale_chall', 'READABILITY_ari', 'READABILITY_linsear_write', \n",
    "                'READABILITY_spache', 'SENTENCE_TYPE_statement', 'SENTENCE_TYPE_question', 'SENTENCE_TYPE_exclamation', 'ARGUMENT RATIO']\n",
    "\n",
    "train_df['feature_vector'] = train_df[feature_cols].agg(list, axis=1)\n",
    "val_df['feature_vector'] = val_df[feature_cols].agg(list, axis=1)\n",
    "test_df['feature_vector'] = test_df[feature_cols].agg(list, axis=1)\n",
    "#print(len(train_df), len(val_df), len(test_df))"
   ]
  },
  {
   "cell_type": "code",
   "execution_count": 56,
   "metadata": {},
   "outputs": [],
   "source": [
    "from sklearn.preprocessing import MinMaxScaler\n",
    "from sklearn.preprocessing import StandardScaler\n",
    "\n",
    "scaler1 = MinMaxScaler(feature_range=(0, 1))\n",
    "scaler2 = StandardScaler()\n",
    "\n",
    "def norm_zero_one(l):\n",
    "    return scaler1.fit_transform(l)\n",
    "\n",
    "def standard_scale(l):\n",
    "    return scaler2.fit_transform(l)"
   ]
  },
  {
   "cell_type": "code",
   "execution_count": 57,
   "metadata": {},
   "outputs": [],
   "source": [
    "import tensorflow as tf\n",
    "\n",
    "X_train, Y_train = list(), list()\n",
    "\n",
    "#vector = train_df.feature_vector.tolist()\n",
    "vector = norm_zero_one(train_df.feature_vector.tolist())\n",
    "#vector = standard_scale(train_df.feature_vector.tolist())\n",
    "\n",
    "for x in vector:\n",
    "    x_train = np.array([np.array(val) for val in x])\n",
    "    X_train.append(x_train)\n",
    "    \n",
    "for y in train_df.qual.tolist():\n",
    "    y_train = np.array([np.array(val) for val in [y]])\n",
    "    Y_train.append(y_train)\n",
    "\n",
    "X_train = tf.cast(X_train , dtype=tf.float32)\n",
    "Y_train = tf.cast(Y_train , dtype=tf.float32)"
   ]
  },
  {
   "cell_type": "code",
   "execution_count": 58,
   "metadata": {},
   "outputs": [],
   "source": [
    "X_val, Y_val = list(), list()\n",
    "\n",
    "#vector = val_df.feature_vector.tolist()\n",
    "vector = norm_zero_one(val_df.feature_vector.tolist())\n",
    "#vector = standard_scale(val_df.feature_vector.tolist())\n",
    "\n",
    "for x in vector:\n",
    "    x_val = np.array([np.array(val) for val in x])\n",
    "    X_val.append(x_val)\n",
    "    \n",
    "for y in val_df.qual.tolist():\n",
    "    y_val = np.array([np.array(val) for val in [y]])\n",
    "    Y_val.append(y_val)\n",
    "\n",
    "X_val = tf.cast(X_val , dtype=tf.float32)\n",
    "Y_val = tf.cast(Y_val , dtype=tf.float32)"
   ]
  },
  {
   "cell_type": "code",
   "execution_count": 59,
   "metadata": {},
   "outputs": [],
   "source": [
    "X_test = list()\n",
    "\n",
    "#vector = test_df.feature_vector.tolist()\n",
    "vector = norm_zero_one(test_df.feature_vector.tolist())\n",
    "#vector = standard_scale(test_df.feature_vector.tolist())\n",
    "\n",
    "for x in vector:\n",
    "    x_test = np.array([np.array(val) for val in x])\n",
    "    X_test.append(x_test)\n",
    "    \n",
    "X_test = tf.cast(X_test , dtype=tf.float32)"
   ]
  },
  {
   "cell_type": "code",
   "execution_count": 26,
   "metadata": {},
   "outputs": [],
   "source": [
    "import pandas as pd\n",
    "import re\n",
    "import numpy as np\n",
    "\n",
    "from sklearn.base import clone\n",
    "from sklearn.metrics import classification_report, precision_score, recall_score\n",
    "from sklearn.feature_extraction.text import CountVectorizer,TfidfVectorizer\n",
    "from sklearn.model_selection import StratifiedKFold\n",
    "\n",
    "from transformers import pipeline, AutoTokenizer\n",
    "from tqdm import tqdm\n",
    "\n",
    "from matplotlib import pyplot as plt\n",
    "\n",
    "import ast\n",
    "import warnings\n",
    "\n",
    "warnings.filterwarnings('ignore')"
   ]
  },
  {
   "cell_type": "code",
   "execution_count": 30,
   "metadata": {},
   "outputs": [],
   "source": [
    "from numpy.random import seed\n",
    "seed(42)\n",
    "\n",
    "tf.random.set_seed(42)\n",
    "\n",
    "from tensorflow.keras.models import Sequential\n",
    "from tensorflow.keras.layers import Dense, Dropout, LSTM\n",
    "from sklearn.preprocessing import LabelBinarizer\n",
    "from tensorflow.keras.callbacks import EarlyStopping\n",
    "from tensorflow.keras.metrics import TruePositives, Precision\n",
    "import ast\n",
    "\n",
    "# This neural network is used for the embeddings by the \"large\" transformer models\n",
    "\n",
    "model2 = Sequential()\n",
    "model2.add(Dense(512, input_shape=(32,), activation='relu', kernel_initializer='he_uniform'))\n",
    "#model.add(Dropout(0.2))\n",
    "model2.add(Dense(256, activation='relu'))\n",
    "#model.add(Dropout(0.2))\n",
    "model2.add(Dense(64, activation='relu'))\n",
    "#model.add(Dropout(0.2))\n",
    "model2.add(Dense(16, activation='relu'))\n",
    "model2.add(Dense(3, activation='softmax'))\n",
    "# compile the keras model\n",
    "model2.compile(loss='sparse_categorical_crossentropy', optimizer='adam', metrics=[\"sparse_categorical_accuracy\"])"
   ]
  },
  {
   "cell_type": "code",
   "execution_count": 196,
   "metadata": {},
   "outputs": [],
   "source": [
    "#df_valid.qual.tolist()"
   ]
  },
  {
   "cell_type": "code",
   "execution_count": 237,
   "metadata": {},
   "outputs": [],
   "source": [
    "#X_train[:20]"
   ]
  },
  {
   "cell_type": "code",
   "execution_count": 85,
   "metadata": {},
   "outputs": [],
   "source": [
    "#tf.concat([X_train, X_val], axis=0).shape\n",
    "#tf.concat([Y_train, Y_val], axis=0).shape"
   ]
  },
  {
   "cell_type": "code",
   "execution_count": 31,
   "metadata": {},
   "outputs": [
    {
     "name": "stdout",
     "output_type": "stream",
     "text": [
      "Epoch 53: early stopping\n",
      "16/16 [==============================] - 0s 1ms/step\n",
      "CPU times: user 2min 13s, sys: 7.74 s, total: 2min 20s\n",
      "Wall time: 53.9 s\n"
     ]
    }
   ],
   "source": [
    "%%time \n",
    "#Train on train + val, predict on test\n",
    "\n",
    "from keras.callbacks import EarlyStopping\n",
    "\n",
    "es = EarlyStopping(monitor='val_loss', mode='min', verbose=1, patience=50)\n",
    "\n",
    "model2.fit(tf.concat([X_train, X_val], axis=0), tf.concat([Y_train, Y_val], axis=0), epochs=1000, batch_size=5, verbose=0, validation_split=0.2, callbacks=[es])\n",
    "probs = model2.predict(X_test)\n",
    "predictions = np.argmax(probs, axis=1)\n",
    "#print(classification_report(y_true=Y_val, y_pred=predictions))"
   ]
  },
  {
   "cell_type": "code",
   "execution_count": 34,
   "metadata": {},
   "outputs": [],
   "source": [
    "#probs"
   ]
  },
  {
   "cell_type": "code",
   "execution_count": 35,
   "metadata": {},
   "outputs": [],
   "source": [
    "test_df['dnn_pred'] = predictions.tolist()\n",
    "test_df['dnn_prob'] = probs.tolist()"
   ]
  },
  {
   "cell_type": "markdown",
   "metadata": {},
   "source": [
    "### Logistic"
   ]
  },
  {
   "cell_type": "code",
   "execution_count": 37,
   "metadata": {},
   "outputs": [],
   "source": [
    "from sklearn.linear_model import LogisticRegression\n",
    "from sklearn.model_selection import GridSearchCV\n",
    "\n",
    "clf = LogisticRegression(C=15, penalty=\"l2\", solver=\"liblinear\")\n",
    "\n",
    "clf.fit(np.concatenate((X_train.numpy(), X_val.numpy()), axis=0), train_df.qual.tolist()+val_df.qual.tolist())\n",
    "probs = clf.predict_proba(X_test.numpy())\n",
    "predictions = clf.predict(X_test.numpy())"
   ]
  },
  {
   "cell_type": "code",
   "execution_count": 38,
   "metadata": {},
   "outputs": [],
   "source": [
    "test_df['lr_pred'] = predictions.tolist()\n",
    "test_df['lr_prob'] = probs.tolist()"
   ]
  },
  {
   "cell_type": "markdown",
   "metadata": {},
   "source": [
    "### SVM"
   ]
  },
  {
   "cell_type": "code",
   "execution_count": 40,
   "metadata": {},
   "outputs": [],
   "source": [
    "from sklearn.svm import SVC\n",
    "\n",
    "clf = SVC(C=100, gamma=0.1, kernel='rbf', probability=True)\n",
    "\n",
    "clf.fit(np.concatenate((X_train.numpy(), X_val.numpy()), axis=0), train_df.qual.tolist()+val_df.qual.tolist())\n",
    "probs = clf.predict_proba(X_test.numpy())\n",
    "predictions = clf.predict(X_test.numpy())"
   ]
  },
  {
   "cell_type": "code",
   "execution_count": 41,
   "metadata": {},
   "outputs": [],
   "source": [
    "test_df['svm_pred'] = predictions.tolist()\n",
    "test_df['svm_prob'] = probs.tolist()"
   ]
  },
  {
   "cell_type": "code",
   "execution_count": 131,
   "metadata": {},
   "outputs": [],
   "source": [
    "#len(test_df)"
   ]
  },
  {
   "cell_type": "markdown",
   "metadata": {},
   "source": [
    "### Random Forests"
   ]
  },
  {
   "cell_type": "code",
   "execution_count": 43,
   "metadata": {},
   "outputs": [],
   "source": [
    "from sklearn.ensemble import RandomForestClassifier\n",
    "\n",
    "clf = RandomForestClassifier(criterion='gini', max_depth=8, max_features='log2', n_estimators=200)\n",
    "\n",
    "clf.fit(np.concatenate((X_train.numpy(), X_val.numpy()), axis=0), train_df.qual.tolist()+val_df.qual.tolist())\n",
    "probs = clf.predict_proba(X_test.numpy())\n",
    "predictions = clf.predict(X_test.numpy())"
   ]
  },
  {
   "cell_type": "code",
   "execution_count": 44,
   "metadata": {},
   "outputs": [],
   "source": [
    "test_df['rf_pred'] = predictions.tolist()\n",
    "test_df['rf_prob'] = probs.tolist()"
   ]
  },
  {
   "cell_type": "code",
   "execution_count": 142,
   "metadata": {},
   "outputs": [],
   "source": [
    "#test_df.head()"
   ]
  },
  {
   "cell_type": "markdown",
   "metadata": {},
   "source": [
    "### Naive Bayes"
   ]
  },
  {
   "cell_type": "code",
   "execution_count": 46,
   "metadata": {},
   "outputs": [],
   "source": [
    "from sklearn.naive_bayes import MultinomialNB\n",
    "from sklearn.preprocessing import MinMaxScaler\n",
    "\n",
    "scaler = MinMaxScaler()\n",
    "\n",
    "clf = MultinomialNB(alpha=0.01)\n",
    "\n",
    "clf.fit(np.concatenate((X_train.numpy(), X_val.numpy()), axis=0), train_df.qual.tolist()+val_df.qual.tolist())\n",
    "probs = clf.predict_proba(scaler.fit_transform(X_test.numpy()))\n",
    "predictions = clf.predict(scaler.fit_transform(X_test.numpy()))"
   ]
  },
  {
   "cell_type": "code",
   "execution_count": 47,
   "metadata": {},
   "outputs": [],
   "source": [
    "test_df['nb_pred'] = predictions.tolist()\n",
    "test_df['nb_prob'] = probs.tolist()"
   ]
  },
  {
   "cell_type": "markdown",
   "metadata": {},
   "source": [
    "### LightGBM"
   ]
  },
  {
   "cell_type": "code",
   "execution_count": 48,
   "metadata": {},
   "outputs": [],
   "source": [
    "from lightgbm import LGBMClassifier\n",
    "\n",
    "lgb = LGBMClassifier(\n",
    "    max_depth=7,\n",
    "    lambda_l1=0.1,\n",
    "    lambda_l2=0.01,\n",
    "    learning_rate=0.01,\n",
    "    n_estimators=500,\n",
    "    reg_aplha=1.1,\n",
    "    colsample_bytree=0.9,\n",
    "    subsample=0.9,\n",
    "    n_jobs=5\n",
    ")"
   ]
  },
  {
   "cell_type": "code",
   "execution_count": 49,
   "metadata": {},
   "outputs": [
    {
     "name": "stdout",
     "output_type": "stream",
     "text": [
      "[LightGBM] [Warning] Unknown parameter: reg_aplha\n",
      "[LightGBM] [Warning] lambda_l1 is set=0.1, reg_alpha=0.0 will be ignored. Current value: lambda_l1=0.1\n",
      "[LightGBM] [Warning] lambda_l2 is set=0.01, reg_lambda=0.0 will be ignored. Current value: lambda_l2=0.01\n"
     ]
    }
   ],
   "source": [
    "lgb.fit(np.concatenate((X_train.numpy(), X_val.numpy()), axis=0), train_df.qual.tolist()+val_df.qual.tolist(), eval_set=[(X_val, Y_val)], eval_metric='auc_mu', verbose=False, early_stopping_rounds=50)\n",
    "\n",
    "probs = lgb.predict_proba(X_test.numpy())\n",
    "predictions = lgb.predict(X_test.numpy())"
   ]
  },
  {
   "cell_type": "code",
   "execution_count": 50,
   "metadata": {},
   "outputs": [],
   "source": [
    "test_df['lgb_pred'] = predictions.tolist()\n",
    "test_df['lgb_prob'] = probs.tolist()"
   ]
  },
  {
   "cell_type": "code",
   "execution_count": 52,
   "metadata": {},
   "outputs": [],
   "source": [
    "#test_df.tail()"
   ]
  },
  {
   "cell_type": "code",
   "execution_count": 53,
   "metadata": {},
   "outputs": [],
   "source": [
    "test_df.to_csv(\"../../results-test/quality/chatnoir_10_custom_stopw_lemmas_features_predictions\", sep=\"\\t\", index=False)"
   ]
  }
 ],
 "metadata": {
  "kernelspec": {
   "display_name": "Python 3",
   "language": "python",
   "name": "python3"
  },
  "language_info": {
   "codemirror_mode": {
    "name": "ipython",
    "version": 3
   },
   "file_extension": ".py",
   "mimetype": "text/x-python",
   "name": "python",
   "nbconvert_exporter": "python",
   "pygments_lexer": "ipython3",
   "version": "3.8.10"
  }
 },
 "nbformat": 4,
 "nbformat_minor": 4
}
