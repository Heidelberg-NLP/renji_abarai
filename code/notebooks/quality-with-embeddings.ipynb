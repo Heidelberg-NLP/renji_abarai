{
 "cells": [
  {
   "cell_type": "code",
   "execution_count": 1,
   "metadata": {},
   "outputs": [
    {
     "name": "stdout",
     "output_type": "stream",
     "text": [
      "3011 692\n"
     ]
    }
   ],
   "source": [
    "import ast\n",
    "import pandas as pd\n",
    "import numpy as np\n",
    "\n",
    "train_df = pd.read_csv(\"../../data/train-val-splits/qrels_args_docs_train_emb.tsv\", sep=\"\\t\").dropna()\n",
    "val_df = pd.read_csv(\"../../data/train-val-splits/qrels_args_docs_val_emb.tsv\", sep=\"\\t\").dropna()\n",
    "train_df['instr_mean'] = train_df['instr_mean'].apply(ast.literal_eval)\n",
    "val_df['instr_mean'] = val_df['instr_mean'].apply(ast.literal_eval)\n",
    "#print(len(train_df), len(val_df))"
   ]
  },
  {
   "cell_type": "code",
   "execution_count": 2,
   "metadata": {},
   "outputs": [],
   "source": [
    "import tensorflow as tf\n",
    "\n",
    "X_train, Y_train = list(), list()\n",
    "\n",
    "for x in train_df.instr_mean.tolist():\n",
    "    x_train = np.array([np.array(val) for val in x[0]])\n",
    "    X_train.append(x_train)\n",
    "    \n",
    "for y in train_df.qual.tolist():\n",
    "    y_train = np.array([np.array(val) for val in [y]])\n",
    "    Y_train.append(y_train)\n",
    "\n",
    "X_train = tf.cast(X_train , dtype=tf.float32)\n",
    "Y_train = tf.cast(Y_train , dtype=tf.float32)"
   ]
  },
  {
   "cell_type": "code",
   "execution_count": 3,
   "metadata": {},
   "outputs": [],
   "source": [
    "X_val, Y_val = list(), list()\n",
    "\n",
    "for x in val_df.instr_mean.tolist():\n",
    "    x_val = np.array([np.array(val) for val in x[0]])\n",
    "    X_val.append(x_val)\n",
    "    \n",
    "for y in val_df.qual.tolist():\n",
    "    y_val = np.array([np.array(val) for val in [y]])\n",
    "    Y_val.append(y_val)\n",
    "\n",
    "X_val = tf.cast(X_val , dtype=tf.float32)\n",
    "Y_val = tf.cast(Y_val , dtype=tf.float32)"
   ]
  },
  {
   "cell_type": "code",
   "execution_count": 4,
   "metadata": {},
   "outputs": [],
   "source": [
    "import pandas as pd\n",
    "import re\n",
    "import numpy as np\n",
    "\n",
    "from sklearn.base import clone\n",
    "from sklearn.metrics import classification_report, precision_score, recall_score\n",
    "from sklearn.feature_extraction.text import CountVectorizer,TfidfVectorizer\n",
    "from sklearn.model_selection import StratifiedKFold\n",
    "\n",
    "from transformers import pipeline, AutoTokenizer\n",
    "from tqdm import tqdm\n",
    "\n",
    "from matplotlib import pyplot as plt\n",
    "\n",
    "import ast\n",
    "import warnings\n",
    "\n",
    "warnings.filterwarnings('ignore')"
   ]
  },
  {
   "cell_type": "code",
   "execution_count": 5,
   "metadata": {},
   "outputs": [],
   "source": [
    "from numpy.random import seed\n",
    "seed(42)\n",
    "\n",
    "tf.random.set_seed(42)\n",
    "\n",
    "from tensorflow.keras.models import Sequential\n",
    "from tensorflow.keras.layers import Dense, Dropout, LSTM\n",
    "from sklearn.preprocessing import LabelBinarizer\n",
    "from tensorflow.keras.callbacks import EarlyStopping\n",
    "from tensorflow.keras.metrics import TruePositives, Precision\n",
    "import ast\n",
    "\n",
    "# This neural network is used for the embeddings by the \"large\" transformer models\n",
    "\n",
    "model2 = Sequential()\n",
    "model2.add(Dense(512, input_shape=(768,), activation='relu', kernel_initializer='he_uniform'))\n",
    "#model.add(Dropout(0.2))\n",
    "model2.add(Dense(256, activation='relu'))\n",
    "#model.add(Dropout(0.2))\n",
    "model2.add(Dense(64, activation='relu'))\n",
    "#model.add(Dropout(0.2))\n",
    "model2.add(Dense(16, activation='relu'))\n",
    "model2.add(Dense(3, activation='softmax'))\n",
    "# compile the keras model\n",
    "model2.compile(loss='sparse_categorical_crossentropy', optimizer='adam', metrics=[\"sparse_categorical_accuracy\"])"
   ]
  },
  {
   "cell_type": "code",
   "execution_count": 6,
   "metadata": {},
   "outputs": [
    {
     "name": "stdout",
     "output_type": "stream",
     "text": [
      "Epoch 55: early stopping\n",
      "22/22 [==============================] - 0s 1ms/step\n",
      "              precision    recall  f1-score   support\n",
      "\n",
      "         0.0       0.63      0.37      0.46       126\n",
      "         1.0       0.46      0.49      0.47       275\n",
      "         2.0       0.53      0.60      0.56       291\n",
      "\n",
      "    accuracy                           0.51       692\n",
      "   macro avg       0.54      0.48      0.50       692\n",
      "weighted avg       0.52      0.51      0.51       692\n",
      "\n",
      "CPU times: user 8min 45s, sys: 19.4 s, total: 9min 4s\n",
      "Wall time: 2min 14s\n"
     ]
    }
   ],
   "source": [
    "%%time\n",
    "from keras.callbacks import EarlyStopping\n",
    "\n",
    "es = EarlyStopping(monitor='val_loss', mode='min', verbose=1, patience=50)\n",
    "\n",
    "model2.fit(X_train, Y_train, epochs=1000, batch_size=5, verbose=0, validation_split=0.2, callbacks=[es])\n",
    "probs = model2.predict(X_val)\n",
    "predictions = np.argmax(probs, axis=1)\n",
    "#print(classification_report(y_true=Y_val, y_pred=predictions))"
   ]
  },
  {
   "cell_type": "code",
   "execution_count": 7,
   "metadata": {},
   "outputs": [],
   "source": [
    "# preds on the val set\n",
    "val_df['dnn_pred'] = predictions.tolist()\n",
    "val_df['dnn_prob'] = probs.tolist()"
   ]
  },
  {
   "cell_type": "code",
   "execution_count": 11,
   "metadata": {},
   "outputs": [
    {
     "name": "stdout",
     "output_type": "stream",
     "text": [
      "              precision    recall  f1-score   support\n",
      "\n",
      "           0       0.81      0.30      0.44       126\n",
      "           1       0.60      0.30      0.40       275\n",
      "           2       0.53      0.91      0.67       291\n",
      "\n",
      "    accuracy                           0.56       692\n",
      "   macro avg       0.64      0.51      0.50       692\n",
      "weighted avg       0.61      0.56      0.52       692\n",
      "\n"
     ]
    }
   ],
   "source": [
    "# on the val set; hyperparameters as on the test set\n",
    "\n",
    "from sklearn.linear_model import LogisticRegression\n",
    "\n",
    "clf = LogisticRegression(C=20, penalty=\"l2\", solver=\"liblinear\")\n",
    "\n",
    "clf.fit(X_train.numpy(), train_df.qual.tolist())\n",
    "\n",
    "probs = clf.predict_proba(X_val.numpy())\n",
    "predictions = clf.predict(X_val.numpy())\n",
    "\n",
    "#print(classification_report(y_true=val_df.qual.tolist(), y_pred=predictions))"
   ]
  },
  {
   "cell_type": "code",
   "execution_count": 12,
   "metadata": {},
   "outputs": [],
   "source": [
    "val_df['lr_pred'] = predictions.tolist()\n",
    "val_df['lr_prob'] = probs.tolist()"
   ]
  },
  {
   "cell_type": "code",
   "execution_count": 14,
   "metadata": {},
   "outputs": [
    {
     "name": "stdout",
     "output_type": "stream",
     "text": [
      "              precision    recall  f1-score   support\n",
      "\n",
      "           0       0.72      0.48      0.58       126\n",
      "           1       0.51      0.29      0.37       275\n",
      "           2       0.53      0.81      0.64       291\n",
      "\n",
      "    accuracy                           0.55       692\n",
      "   macro avg       0.59      0.53      0.53       692\n",
      "weighted avg       0.56      0.55      0.52       692\n",
      "\n"
     ]
    }
   ],
   "source": [
    "# on the val set; hyperparameters as on the test set\n",
    "\n",
    "from sklearn.svm import SVC\n",
    "\n",
    "clf = SVC(C=10, gamma=1, kernel='rbf', probability=True)\n",
    "clf.fit(X_train.numpy(), train_df.qual.tolist())\n",
    "\n",
    "probs = clf.predict_proba(X_val.numpy())\n",
    "predictions = clf.predict(X_val.numpy())\n",
    "\n",
    "#print(classification_report(y_true=val_df.qual.tolist(), y_pred=predictions))"
   ]
  },
  {
   "cell_type": "code",
   "execution_count": 15,
   "metadata": {},
   "outputs": [],
   "source": [
    "val_df['svm_pred'] = predictions.tolist()\n",
    "val_df['svm_prob'] = probs.tolist()"
   ]
  },
  {
   "cell_type": "code",
   "execution_count": 16,
   "metadata": {},
   "outputs": [
    {
     "name": "stdout",
     "output_type": "stream",
     "text": [
      "              precision    recall  f1-score   support\n",
      "\n",
      "           0       0.85      0.26      0.40       126\n",
      "           1       0.68      0.06      0.11       275\n",
      "           2       0.46      0.99      0.62       291\n",
      "\n",
      "    accuracy                           0.49       692\n",
      "   macro avg       0.66      0.44      0.38       692\n",
      "weighted avg       0.62      0.49      0.38       692\n",
      "\n"
     ]
    }
   ],
   "source": [
    "# on the val set; hyperparameters as on the test set\n",
    "from sklearn.ensemble import RandomForestClassifier\n",
    "\n",
    "clf = RandomForestClassifier(criterion='entropy', max_depth=8, max_features='auto', n_estimators=500)\n",
    "\n",
    "clf.fit(X_train.numpy(), train_df.qual.tolist())\n",
    "\n",
    "probs = clf.predict_proba(X_val.numpy())\n",
    "predictions = clf.predict(X_val.numpy())\n",
    "\n",
    "#print(classification_report(y_true=val_df.qual.tolist(), y_pred=predictions))"
   ]
  },
  {
   "cell_type": "code",
   "execution_count": 17,
   "metadata": {},
   "outputs": [],
   "source": [
    "val_df['rf_pred'] = predictions.tolist()\n",
    "val_df['rf_prob'] = probs.tolist()"
   ]
  },
  {
   "cell_type": "code",
   "execution_count": 18,
   "metadata": {},
   "outputs": [
    {
     "name": "stdout",
     "output_type": "stream",
     "text": [
      "              precision    recall  f1-score   support\n",
      "\n",
      "           0       0.00      0.00      0.00       126\n",
      "           1       0.00      0.00      0.00       275\n",
      "           2       0.42      1.00      0.59       291\n",
      "\n",
      "    accuracy                           0.42       692\n",
      "   macro avg       0.14      0.33      0.20       692\n",
      "weighted avg       0.18      0.42      0.25       692\n",
      "\n"
     ]
    }
   ],
   "source": [
    "# on the val set; hyperparameters as on the test set\n",
    "\n",
    "from sklearn.naive_bayes import MultinomialNB\n",
    "from sklearn.preprocessing import MinMaxScaler\n",
    "\n",
    "scaler = MinMaxScaler()\n",
    "\n",
    "clf = MultinomialNB(alpha=0.01)\n",
    "\n",
    "clf.fit(scaler.fit_transform(X_train.numpy()), train_df.qual.tolist())\n",
    "\n",
    "probs = clf.predict_proba(X_val.numpy())\n",
    "predictions = clf.predict(X_val.numpy())\n",
    "\n",
    "#print(classification_report(y_true=val_df.qual.tolist(), y_pred=predictions))"
   ]
  },
  {
   "cell_type": "code",
   "execution_count": 19,
   "metadata": {},
   "outputs": [],
   "source": [
    "val_df['nb_pred'] = predictions.tolist()\n",
    "val_df['nb_prob'] = probs.tolist()"
   ]
  },
  {
   "cell_type": "code",
   "execution_count": 20,
   "metadata": {},
   "outputs": [],
   "source": [
    "from lightgbm import LGBMClassifier\n",
    "\n",
    "lgb = LGBMClassifier(\n",
    "    max_depth=7,\n",
    "    lambda_l1=0.1,\n",
    "    lambda_l2=0.01,\n",
    "    learning_rate=0.01,\n",
    "    n_estimators=500,\n",
    "    reg_aplha=1.1,\n",
    "    colsample_bytree=0.9,\n",
    "    subsample=0.9,\n",
    "    n_jobs=5\n",
    ")"
   ]
  },
  {
   "cell_type": "code",
   "execution_count": 22,
   "metadata": {},
   "outputs": [
    {
     "name": "stdout",
     "output_type": "stream",
     "text": [
      "[LightGBM] [Warning] Unknown parameter: reg_aplha\n",
      "[LightGBM] [Warning] lambda_l1 is set=0.1, reg_alpha=0.0 will be ignored. Current value: lambda_l1=0.1\n",
      "[LightGBM] [Warning] lambda_l2 is set=0.01, reg_lambda=0.0 will be ignored. Current value: lambda_l2=0.01\n"
     ]
    }
   ],
   "source": [
    "lgb.fit(X_train, Y_train, eval_set=[(X_val, Y_val)], eval_metric='auc_mu', verbose=False, early_stopping_rounds=50)\n",
    "\n",
    "probs = lgb.predict_proba(X_val.numpy())\n",
    "predictions = lgb.predict(X_val.numpy())"
   ]
  },
  {
   "cell_type": "code",
   "execution_count": 24,
   "metadata": {},
   "outputs": [],
   "source": [
    "val_df['lgb_pred'] = predictions.tolist()\n",
    "val_df['lgb_prob'] = probs.tolist()"
   ]
  },
  {
   "cell_type": "code",
   "execution_count": 25,
   "metadata": {},
   "outputs": [],
   "source": [
    "val_df.to_csv('../../data/train-val-splits/qrels_args_docs_val_emb_predictions.tsv', sep='\\t', index=False)"
   ]
  }
 ],
 "metadata": {
  "kernelspec": {
   "display_name": "Python 3",
   "language": "python",
   "name": "python3"
  },
  "language_info": {
   "codemirror_mode": {
    "name": "ipython",
    "version": 3
   },
   "file_extension": ".py",
   "mimetype": "text/x-python",
   "name": "python",
   "nbconvert_exporter": "python",
   "pygments_lexer": "ipython3",
   "version": "3.8.10"
  }
 },
 "nbformat": 4,
 "nbformat_minor": 4
}
